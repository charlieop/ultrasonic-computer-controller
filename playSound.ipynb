{
 "cells": [
  {
   "cell_type": "code",
   "execution_count": 2,
   "metadata": {},
   "outputs": [
    {
     "ename": "KeyboardInterrupt",
     "evalue": "",
     "output_type": "error",
     "traceback": [
      "\u001b[0;31m---------------------------------------------------------------------------\u001b[0m",
      "\u001b[0;31mKeyboardInterrupt\u001b[0m                         Traceback (most recent call last)",
      "\u001b[1;32m/Users/charlieop/Documents/VScodes/python/ultrasonic-gesture-controller/test.ipynb Cell 1\u001b[0m line \u001b[0;36m2\n\u001b[1;32m     <a href='vscode-notebook-cell:/Users/charlieop/Documents/VScodes/python/ultrasonic-gesture-controller/test.ipynb#W0sZmlsZQ%3D%3D?line=19'>20</a>\u001b[0m \u001b[39mfor\u001b[39;00m i \u001b[39min\u001b[39;00m \u001b[39mrange\u001b[39m(\u001b[39m5\u001b[39m):\n\u001b[1;32m     <a href='vscode-notebook-cell:/Users/charlieop/Documents/VScodes/python/ultrasonic-gesture-controller/test.ipynb#W0sZmlsZQ%3D%3D?line=20'>21</a>\u001b[0m     sd\u001b[39m.\u001b[39mplay(chirp_signal, sample_rate)\n\u001b[0;32m---> <a href='vscode-notebook-cell:/Users/charlieop/Documents/VScodes/python/ultrasonic-gesture-controller/test.ipynb#W0sZmlsZQ%3D%3D?line=21'>22</a>\u001b[0m     time\u001b[39m.\u001b[39;49msleep(\u001b[39m3.1\u001b[39;49m)\n",
      "\u001b[0;31mKeyboardInterrupt\u001b[0m: "
     ]
    }
   ],
   "source": [
    "import numpy as np\n",
    "import sounddevice as sd\n",
    "import time\n",
    "from scipy.signal import chirp\n",
    "\n",
    "\n",
    "sample_rate = 48000  # Sample rate\n",
    "duration = 3\n",
    "f0 = 18000  # starting frequency\n",
    "f1 = 22000  # ending frequency\n",
    "\n",
    "\n",
    "# Define the time range and frequency range\n",
    "t = np.linspace(0, duration, int(sample_rate * duration))\n",
    "\n",
    "# Generate the chirp signal\n",
    "chirp_signal = chirp(t, f0, duration, f1, method='linear')\n",
    "# sd.play(chirp_signal, sample_rate)\n",
    "\n",
    "for i in range(5):\n",
    "    sd.play(chirp_signal, sample_rate)\n",
    "    time.sleep(3.1)\n"
   ]
  },
  {
   "cell_type": "code",
   "execution_count": 2,
   "metadata": {},
   "outputs": [],
   "source": [
    "import pyaudio\n",
    "import numpy as np\n",
    "\n",
    "# set up audio parameters\n",
    "FORMAT = pyaudio.paFloat32\n",
    "CHANNELS = 1\n",
    "RATE = 44100\n",
    "DURATION = 6000.0\n",
    "\n",
    "# create PyAudio object\n",
    "p = pyaudio.PyAudio()\n",
    "\n",
    "# create sine wave\n",
    "frequency = 20000\n",
    "samples = np.arange(int(DURATION * RATE))\n",
    "waveform = np.sin(2 * np.pi * frequency * samples / RATE)\n",
    "\n",
    "# create audio stream\n",
    "stream = p.open(format=FORMAT,\n",
    "                channels=CHANNELS,\n",
    "                rate=RATE,\n",
    "                output=True)\n",
    "\n",
    "# play audio stream\n",
    "stream.write(waveform.astype(np.float32).tobytes())\n",
    "\n",
    "# close audio stream\n",
    "stream.stop_stream()\n",
    "stream.close()\n",
    "p.terminate()"
   ]
  },
  {
   "cell_type": "code",
   "execution_count": 14,
   "metadata": {},
   "outputs": [],
   "source": [
    "import numpy as np\n",
    "import pyaudio\n",
    "\n",
    "# set up audio parameters\n",
    "RATE = 44100\n",
    "CHANNELS = 2\n",
    "DURATION = 50\n",
    "\n",
    "# set up frequency for left and right channels\n",
    "freq_left = 19000\n",
    "freq_right = 20000\n",
    "\n",
    "# calculate number of samples\n",
    "num_samples = int(RATE * DURATION)\n",
    "\n",
    "# create time array\n",
    "time_array = np.arange(num_samples) / float(RATE)\n",
    "\n",
    "# create audio data for left channel\n",
    "audio_data_left = 0.5 * np.sin(2 * np.pi * freq_left * time_array)\n",
    "\n",
    "# create audio data for right channel\n",
    "audio_data_right = 0.5 * np.sin(2 * np.pi * freq_right * time_array)\n",
    "\n",
    "# create audio data for both channels\n",
    "audio_data = np.zeros((num_samples, CHANNELS))\n",
    "audio_data[:, 0] = audio_data_left\n",
    "audio_data[:, 1] = audio_data_right\n",
    "\n",
    "# create PyAudio object\n",
    "p = pyaudio.PyAudio()\n",
    "\n",
    "# open audio stream\n",
    "stream = p.open(format=pyaudio.paFloat32,\n",
    "                channels=CHANNELS,\n",
    "                rate=RATE,\n",
    "                output=True)\n",
    "\n",
    "# play audio data\n",
    "stream.write(audio_data.astype(np.float32).tobytes())\n",
    "\n",
    "# close audio stream and PyAudio object\n",
    "stream.stop_stream()\n",
    "stream.close()\n",
    "p.terminate()"
   ]
  }
 ],
 "metadata": {
  "kernelspec": {
   "display_name": "py",
   "language": "python",
   "name": "python3"
  },
  "language_info": {
   "codemirror_mode": {
    "name": "ipython",
    "version": 3
   },
   "file_extension": ".py",
   "mimetype": "text/x-python",
   "name": "python",
   "nbconvert_exporter": "python",
   "pygments_lexer": "ipython3",
   "version": "3.10.11"
  },
  "orig_nbformat": 4,
  "vscode": {
   "interpreter": {
    "hash": "0d4703ce9abfedc66019504c32190a163429dfd7a13261e7d76b7f68605f6896"
   }
  }
 },
 "nbformat": 4,
 "nbformat_minor": 2
}
